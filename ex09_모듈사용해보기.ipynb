{
 "cells": [
  {
   "cell_type": "markdown",
   "id": "b3e77713",
   "metadata": {},
   "source": [
    "### 모듈사용해보기\n",
    "- 현재 스크립트 파일과 모듈파일(.py)이 같은 공간에 위치해야 한다!!"
   ]
  },
  {
   "cell_type": "code",
   "execution_count": 1,
   "id": "8deb1d10",
   "metadata": {},
   "outputs": [],
   "source": [
    "#라이브러리 로딩하기!!\n",
    "import Module as md"
   ]
  },
  {
   "cell_type": "code",
   "execution_count": 3,
   "id": "b3b26304",
   "metadata": {},
   "outputs": [
    {
     "ename": "NameError",
     "evalue": "name 'md' is not defined",
     "output_type": "error",
     "traceback": [
      "\u001b[1;31m---------------------------------------------------------------------------\u001b[0m",
      "\u001b[1;31mNameError\u001b[0m                                 Traceback (most recent call last)",
      "\u001b[1;32m~\\AppData\\Local\\Temp/ipykernel_12804/1660410195.py\u001b[0m in \u001b[0;36m<module>\u001b[1;34m\u001b[0m\n\u001b[1;32m----> 1\u001b[1;33m \u001b[0mmd\u001b[0m\u001b[1;33m.\u001b[0m\u001b[0madd_num\u001b[0m\u001b[1;33m(\u001b[0m\u001b[1;36m4\u001b[0m\u001b[1;33m,\u001b[0m\u001b[1;36m7\u001b[0m\u001b[1;33m)\u001b[0m \u001b[1;31m#md.함수이름()\u001b[0m\u001b[1;33m\u001b[0m\u001b[1;33m\u001b[0m\u001b[0m\n\u001b[0m",
      "\u001b[1;31mNameError\u001b[0m: name 'md' is not defined"
     ]
    }
   ],
   "source": [
    "md.add_num(4,7) #md.함수이름()"
   ]
  },
  {
   "cell_type": "code",
   "execution_count": 2,
   "id": "1b8309e3",
   "metadata": {},
   "outputs": [],
   "source": [
    "#데이터가 많아서 무거운 라이브러리를 불러올 때는 시간이 오래걸린다!\n",
    "#라이브러리 안에서 특정 함수만 불러와서 사용가능!\n",
    "\n",
    "from Module import add_num  #add_num 함수만 가져올거야~"
   ]
  },
  {
   "cell_type": "code",
   "execution_count": 4,
   "id": "d20d6d8e",
   "metadata": {},
   "outputs": [
    {
     "data": {
      "text/plain": [
       "17"
      ]
     },
     "execution_count": 4,
     "metadata": {},
     "output_type": "execute_result"
    }
   ],
   "source": [
    "#특정 함수만 불러왔으므로 그냥 함수이름만 호출해주면 된다~\n",
    "add_num(7,10)"
   ]
  },
  {
   "cell_type": "code",
   "execution_count": 5,
   "id": "a293a6ce",
   "metadata": {},
   "outputs": [
    {
     "ename": "NameError",
     "evalue": "name 'sub_num' is not defined",
     "output_type": "error",
     "traceback": [
      "\u001b[1;31m---------------------------------------------------------------------------\u001b[0m",
      "\u001b[1;31mNameError\u001b[0m                                 Traceback (most recent call last)",
      "\u001b[1;32m~\\AppData\\Local\\Temp/ipykernel_12804/3215913331.py\u001b[0m in \u001b[0;36m<module>\u001b[1;34m\u001b[0m\n\u001b[1;32m----> 1\u001b[1;33m \u001b[0msub_num\u001b[0m\u001b[1;33m(\u001b[0m\u001b[1;36m2\u001b[0m\u001b[1;33m,\u001b[0m\u001b[1;36m1\u001b[0m\u001b[1;33m)\u001b[0m\u001b[1;33m\u001b[0m\u001b[1;33m\u001b[0m\u001b[0m\n\u001b[0m",
      "\u001b[1;31mNameError\u001b[0m: name 'sub_num' is not defined"
     ]
    }
   ],
   "source": [
    "#특정함수만 불러와줬을 때는 그 함수만 사용가능하다!!\n",
    "sub_num(2,1)"
   ]
  },
  {
   "cell_type": "code",
   "execution_count": null,
   "id": "d05a3e75",
   "metadata": {},
   "outputs": [],
   "source": []
  },
  {
   "cell_type": "code",
   "execution_count": null,
   "id": "22ff6adc",
   "metadata": {},
   "outputs": [],
   "source": []
  },
  {
   "cell_type": "code",
   "execution_count": null,
   "id": "e9556048",
   "metadata": {},
   "outputs": [],
   "source": []
  }
 ],
 "metadata": {
  "kernelspec": {
   "display_name": "Python 3 (ipykernel)",
   "language": "python",
   "name": "python3"
  },
  "language_info": {
   "codemirror_mode": {
    "name": "ipython",
    "version": 3
   },
   "file_extension": ".py",
   "mimetype": "text/x-python",
   "name": "python",
   "nbconvert_exporter": "python",
   "pygments_lexer": "ipython3",
   "version": "3.9.7"
  }
 },
 "nbformat": 4,
 "nbformat_minor": 5
}
