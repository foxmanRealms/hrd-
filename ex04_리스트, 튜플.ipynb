{
 "cells": [
  {
   "cell_type": "markdown",
   "id": "22a71edb",
   "metadata": {},
   "source": [
    "### 리스트\n",
    "- 많은 양의 자료를 하나로 묶어서 관리할 때 사용\n",
    "- 순서가 있는 자료 형태이다\n",
    "- 자료형의 구분 없이 하나로 묶을 수 있다\n",
    "- [] 대괄호를 사용하여 생성할 수 있다\n",
    "- 추가, 수정, 삭제가 가능하다 (튜플 과의 차이점)"
   ]
  },
  {
   "cell_type": "code",
   "execution_count": 1,
   "id": "2540965b",
   "metadata": {},
   "outputs": [
    {
     "data": {
      "text/plain": [
       "[0, 1, 2, 3, 4, 5]"
      ]
     },
     "execution_count": 1,
     "metadata": {},
     "output_type": "execute_result"
    }
   ],
   "source": [
    "#리스트 생성하기\n",
    "list1=[0,1,2,3,4,5]\n",
    "list1\n",
    "#출력 결과가 대괄호 안에 들어있다면 리스트 구조이다!"
   ]
  },
  {
   "cell_type": "code",
   "execution_count": 2,
   "id": "0986dac7",
   "metadata": {},
   "outputs": [
    {
     "data": {
      "text/plain": [
       "list"
      ]
     },
     "execution_count": 2,
     "metadata": {},
     "output_type": "execute_result"
    }
   ],
   "source": [
    "type(list1)"
   ]
  },
  {
   "cell_type": "code",
   "execution_count": 3,
   "id": "dc98469e",
   "metadata": {},
   "outputs": [
    {
     "data": {
      "text/plain": [
       "['영화', 313]"
      ]
     },
     "execution_count": 3,
     "metadata": {},
     "output_type": "execute_result"
    }
   ],
   "source": [
    "#서로 다른 자료형태도 묶어줄수 있다 \n",
    "list2=['영화',313]\n",
    "list2"
   ]
  },
  {
   "cell_type": "code",
   "execution_count": 6,
   "id": "356f77e4",
   "metadata": {},
   "outputs": [
    {
     "data": {
      "text/plain": [
       "['영화', 313, [0, 1, 2, 3]]"
      ]
     },
     "execution_count": 6,
     "metadata": {},
     "output_type": "execute_result"
    }
   ],
   "source": [
    "# 리스트 안에 또다른 리스트를 넣어줄 수 있다\n",
    "list3=['영화', 313,[0,1,2,3] ]\n",
    "list3"
   ]
  },
  {
   "cell_type": "markdown",
   "id": "22cc5213",
   "metadata": {},
   "source": [
    "### 리스트 인덱싱"
   ]
  },
  {
   "cell_type": "code",
   "execution_count": 12,
   "id": "abee8230",
   "metadata": {
    "scrolled": true
   },
   "outputs": [
    {
     "data": {
      "text/plain": [
       "['삼겹살', '치킨', '피자', ['참', '치', '김', '밥']]"
      ]
     },
     "execution_count": 12,
     "metadata": {},
     "output_type": "execute_result"
    }
   ],
   "source": [
    "food_list=['삼겹살','치킨','피자',['참','치','김','밥']]\n",
    "food_list"
   ]
  },
  {
   "cell_type": "code",
   "execution_count": 14,
   "id": "b24b0f3e",
   "metadata": {},
   "outputs": [
    {
     "data": {
      "text/plain": [
       "'삼겹살'"
      ]
     },
     "execution_count": 14,
     "metadata": {},
     "output_type": "execute_result"
    }
   ],
   "source": [
    "#삽겸살 가져오기(인덱싱)\n",
    "food_list[0]"
   ]
  },
  {
   "cell_type": "code",
   "execution_count": 16,
   "id": "5b874cd0",
   "metadata": {},
   "outputs": [
    {
     "data": {
      "text/plain": [
       "['참', '치', '김', '밥']"
      ]
     },
     "execution_count": 16,
     "metadata": {},
     "output_type": "execute_result"
    }
   ],
   "source": [
    "#참치깁밥 가져오기\n",
    "food_list[3]"
   ]
  },
  {
   "cell_type": "code",
   "execution_count": 21,
   "id": "0063b2e8",
   "metadata": {},
   "outputs": [
    {
     "data": {
      "text/plain": [
       "'밥'"
      ]
     },
     "execution_count": 21,
     "metadata": {},
     "output_type": "execute_result"
    }
   ],
   "source": [
    "#밥 가져오기!!\n",
    "food_list[3][-1]"
   ]
  },
  {
   "cell_type": "code",
   "execution_count": null,
   "id": "230b3365",
   "metadata": {},
   "outputs": [],
   "source": []
  },
  {
   "cell_type": "code",
   "execution_count": null,
   "id": "147d2e11",
   "metadata": {},
   "outputs": [],
   "source": []
  },
  {
   "cell_type": "code",
   "execution_count": null,
   "id": "b51a91cd",
   "metadata": {},
   "outputs": [],
   "source": []
  },
  {
   "cell_type": "code",
   "execution_count": null,
   "id": "871c8015",
   "metadata": {},
   "outputs": [],
   "source": []
  }
 ],
 "metadata": {
  "kernelspec": {
   "display_name": "Python 3 (ipykernel)",
   "language": "python",
   "name": "python3"
  },
  "language_info": {
   "codemirror_mode": {
    "name": "ipython",
    "version": 3
   },
   "file_extension": ".py",
   "mimetype": "text/x-python",
   "name": "python",
   "nbconvert_exporter": "python",
   "pygments_lexer": "ipython3",
   "version": "3.9.7"
  }
 },
 "nbformat": 4,
 "nbformat_minor": 5
}
